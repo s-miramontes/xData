{
 "cells": [
  {
   "cell_type": "markdown",
   "metadata": {},
   "source": [
    "# Introduction\n",
    "\n",
    "scikit-image is a collection of algorithms for image processing. It is\n",
    "available *free of charge and free of restriction*. The project is run\n",
    "*by the community, for the community*, and adheres to established\n",
    "standards for Python scientific software development, such as *code\n",
    "peer-review*, *inline API documentation*, and thorough *unit testing*.\n",
    "\n",
    "scikit-image is built on top of *numpy*, *scipy*, and *cython*.\n",
    "\n",
    "A full overview of functionality is available as\n",
    "[API documentation](http://scikit-image.org/docs/stable/api/api.html).\n",
    "\n",
    "Usage example are given in our\n",
    "[gallery](http://scikit-image.org/docs/dev/auto_examples/).\n",
    "\n",
    "For a more in-depth overview, take a look at [our paper](http://dx.doi.org/10.7717/peerj.453).\n",
    "\n",
    "Here are some\n",
    "[real-world use-cases](https://docs.google.com/presentation/d/1hzjKWUAL8TGP8R7wkh_aKIjiij1FNy7Tamu1wrILVbM/edit?usp=sharing).  More [over here](https://scholar.google.com/scholar?oi=bibs&hl=en&cites=9047602530582533931,10018089330994015752,4420663986452156476).\n",
    "\n",
    "For the tutorial, ensure you've followed the\n",
    "[installation instructions](https://github.com/stefanv/imagexd_scientific_python/blob/master/preparation.md).\n",
    "\n",
    "## Contents\n",
    "\n",
    "- [3D Image Processing](three_dimensional_image_processing.ipynb)—a tour of skimage capabilities\n",
    "- [RANSAC](1_ransac.ipynb)"
   ]
  }
 ],
 "metadata": {
  "kernelspec": {
   "display_name": "Python 3",
   "language": "python",
   "name": "python3"
  },
  "language_info": {
   "codemirror_mode": {
    "name": "ipython",
    "version": 3
   },
   "file_extension": ".py",
   "mimetype": "text/x-python",
   "name": "python",
   "nbconvert_exporter": "python",
   "pygments_lexer": "ipython3",
   "version": "3.6.3"
  }
 },
 "nbformat": 4,
 "nbformat_minor": 1
}
