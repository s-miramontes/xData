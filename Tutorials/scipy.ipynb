{
 "cells": [
  {
   "cell_type": "markdown",
   "metadata": {},
   "source": [
    "# SciPy\n",
    "\n",
    "- [SciPy API reference](https://docs.scipy.org/doc/scipy/reference/index.html)\n",
    "- [ndimage](https://docs.scipy.org/doc/scipy/reference/ndimage.html)"
   ]
  },
  {
   "cell_type": "markdown",
   "metadata": {},
   "source": [
    "## SciPy: optimization"
   ]
  },
  {
   "cell_type": "code",
   "execution_count": null,
   "metadata": {},
   "outputs": [],
   "source": [
    "%matplotlib inline\n",
    "import numpy as np\n",
    "import matplotlib.pyplot as plt"
   ]
  },
  {
   "cell_type": "code",
   "execution_count": null,
   "metadata": {},
   "outputs": [],
   "source": [
    "def rosenbrock_f(a, b):\n",
    "    \"\"\"Return the Rosenbrock function, Jacobian & Hessian.\n",
    "\n",
    "    Parameters\n",
    "    ----------\n",
    "    a, b : float\n",
    "        Parameters defining the surface.  Typical values are a=1, b=100.\n",
    "\n",
    "    Notes\n",
    "    -----\n",
    "    The Rosenbrock function has a minimum of 0 at ``(a, a**2)``.\n",
    "\n",
    "    \"\"\"\n",
    "    def f(x, y):\n",
    "        return (a - x)**2 + b * (y - x**2) ** 2\n",
    "\n",
    "    def J(x, y):\n",
    "        return np.array([-2 * (a - x) - 4 * b * x * (y - x**2),\n",
    "                         2 * b * (y - x ** 2)])\n",
    "\n",
    "    def H(x, y):\n",
    "        return np.array([[2, -4 * b * x],\n",
    "                         [-4 * b * x, 2 * b]])\n",
    "\n",
    "    return f, J, H"
   ]
  },
  {
   "cell_type": "code",
   "execution_count": null,
   "metadata": {},
   "outputs": [],
   "source": [
    "import matplotlib.pyplot as plt\n",
    "from mpl_toolkits.mplot3d import Axes3D"
   ]
  },
  {
   "cell_type": "code",
   "execution_count": null,
   "metadata": {},
   "outputs": [],
   "source": [
    "rosenbrock, rosenbrock_J, rosenbrock_H = rosenbrock_f(a=1, b=100)\n",
    "\n",
    "def plot_rozen():\n",
    "    # Our first 3D plot!\n",
    "    fig = plt.figure(figsize=(6, 5))\n",
    "    ax = Axes3D(fig, azim=-128, elev=43)\n",
    "\n",
    "    x = np.linspace(-2, 2)\n",
    "    y = np.linspace(-1.25, 3)\n",
    "    xg, yg = np.meshgrid(x, y)\n",
    "\n",
    "    surf = ax.plot_surface(xg, yg, rosenbrock(xg, yg), rstride=1, cstride=1,\n",
    "                           linewidth=0, antialiased=False, cmap='viridis', norm=LogNorm())\n",
    "\n",
    "    ax.set_xlabel('x')\n",
    "    ax.set_ylabel('y')\n",
    "    ax.set_zlabel('f(x, y)')\n",
    "    ax.set_title('Rosenbrock landscape')\n",
    "    \n",
    "    return ax\n",
    "    \n",
    "plot_rozen();"
   ]
  },
  {
   "cell_type": "code",
   "execution_count": null,
   "metadata": {},
   "outputs": [],
   "source": [
    "from scipy import optimize\n",
    "\n",
    "x0 = (-0.5, 2.5)\n",
    "\n",
    "optimize.minimize(lambda p: rosenbrock(*p), x0=x0, method='BFGS')"
   ]
  },
  {
   "cell_type": "code",
   "execution_count": null,
   "metadata": {},
   "outputs": [],
   "source": [
    "path = [x0]\n",
    "\n",
    "optimize.minimize(lambda p: rosenbrock(*p), x0=x0, method='BFGS',\n",
    "                  callback=lambda p: path.append(p))\n",
    "\n",
    "path = np.array(path)\n",
    "z = rosenbrock(*path.T)  # equivalent to `rosenbrock(path[:, 0], path[:, 1])`\n",
    "xyz = np.hstack([path, z[:, np.newaxis]])\n",
    "\n",
    "ax = plot_rozen()\n",
    "ax.plot(*xyz.T);"
   ]
  },
  {
   "cell_type": "code",
   "execution_count": null,
   "metadata": {},
   "outputs": [],
   "source": [
    "methods = ['Nelder-Mead',\n",
    "           'Powell',\n",
    "           'CG',\n",
    "           'BFGS',\n",
    "           'Newton-CG',\n",
    "           'L-BFGS-B',\n",
    "           'TNC',\n",
    "#           'COBYLA',   # does not support callbacks\n",
    "           'SLSQP',\n",
    "           'trust-ncg']"
   ]
  },
  {
   "cell_type": "code",
   "execution_count": null,
   "metadata": {},
   "outputs": [],
   "source": [
    "def optimization_paths():\n",
    "    rosenbrock, rosenbrock_J, rosenbrock_H = rosenbrock_f(a=1, b=100)\n",
    "    path = {}\n",
    "\n",
    "    fig, axes = plt.subplots(4, 3, figsize=(10, 10))\n",
    "    fig.tight_layout(h_pad=2)\n",
    "    fig.subplots_adjust(top=0.9)\n",
    "    fig.delaxes(axes[0, 0])\n",
    "    fig.delaxes(axes[0, 2])\n",
    "\n",
    "    x, y = np.ogrid[-2:2:0.05, -1:3:0.05]\n",
    "    extent = (-2, 2, -1, 3)\n",
    "\n",
    "    z = rosenbrock(x, y).T\n",
    "    axes[0, 1].matshow(z + 1e-3, norm=LogNorm(), origin='lower', extent=extent)\n",
    "\n",
    "    x0 = (-0.5, 2.5)\n",
    "\n",
    "    for n, method in enumerate(methods):\n",
    "        print('Optimizing with {}'.format(method))\n",
    "\n",
    "        path = [x0]\n",
    "        res = optimize.minimize(lambda p: rosenbrock(*p),\n",
    "                                x0=x0,\n",
    "                                jac=lambda p: rosenbrock_J(*p),\n",
    "                                hess=lambda p: rosenbrock_H(*p),\n",
    "                                method=method,\n",
    "                                callback=lambda p: path.append(p))\n",
    "\n",
    "        path = np.array(path)\n",
    "        px, py = path.T\n",
    "\n",
    "        ax = axes.flat[n + 3]\n",
    "\n",
    "        ax.contour(z, extent=extent, norm=LogNorm(), alpha=0.5)\n",
    "        ax.plot(px, py, linewidth=3, color='black')\n",
    "        ax.set_aspect('equal')\n",
    "        ax.scatter(path[-1, 0], path[-1, 1])\n",
    "        ax.set_title(method)\n",
    "\n",
    "    ax.legend()\n",
    "    \n",
    "optimization_paths()"
   ]
  },
  {
   "cell_type": "markdown",
   "metadata": {},
   "source": [
    "### Exercise\n",
    "\n",
    "1. Read the docstring for `optimize.minimize` (i.e., type `optimize.minimize?` into the notebook and execute)\n",
    "2.  As above, plot the optimization path in 3D for the Six Hump Camel function:\n",
    "\n",
    "<img src=\"sixhumpcamel.png\"/>"
   ]
  }
 ],
 "metadata": {
  "kernelspec": {
   "display_name": "Python 3",
   "language": "python",
   "name": "python3"
  },
  "language_info": {
   "codemirror_mode": {
    "name": "ipython",
    "version": 3
   },
   "file_extension": ".py",
   "mimetype": "text/x-python",
   "name": "python",
   "nbconvert_exporter": "python",
   "pygments_lexer": "ipython3",
   "version": "3.6.3"
  }
 },
 "nbformat": 4,
 "nbformat_minor": 2
}
